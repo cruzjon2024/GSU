{
 "cells": [
  {
   "cell_type": "code",
   "execution_count": 1,
   "id": "1fcf379d-76dc-46b4-8b28-fd713daccbd6",
   "metadata": {},
   "outputs": [],
   "source": [
    "from bs4 import BeautifulSoup,NavigableString\n",
    "from IPython.display import display,HTML\n",
    "import pandas as pd "
   ]
  },
  {
   "cell_type": "code",
   "execution_count": 2,
   "id": "34e4bb90-e79c-4638-adc0-71aa8c99d0fc",
   "metadata": {},
   "outputs": [],
   "source": [
    "import requests"
   ]
  },
  {
   "cell_type": "code",
   "execution_count": 3,
   "id": "d0c7f91d-ac79-4d76-bd18-46f3025e9173",
   "metadata": {},
   "outputs": [],
   "source": [
    "data=requests.get(\"https://www.baseball-reference.com/players/r/rizzoan01.shtml\")\n",
    "data = data.text.replace(\"<!--\",\"\").replace(\"-->\",\"\") # replacing comments in html\n",
    "## They Commented all other tables because of dynamic loading may be , you can verify it by right click on page and view source \n",
    "# u will see that only one table is un commented.\n"
   ]
  },
  {
   "cell_type": "code",
   "execution_count": 4,
   "id": "30effed3-49d9-4736-a6ef-91279bedc9fb",
   "metadata": {},
   "outputs": [],
   "source": [
    "soup=BeautifulSoup(data.lower() , 'html.parser')"
   ]
  },
  {
   "cell_type": "code",
   "execution_count": 5,
   "id": "2402921b-fca1-4524-b94a-6f9c86feb12b",
   "metadata": {},
   "outputs": [],
   "source": [
    "for script in soup([\"script\", \"style\"]):\n",
    "    script.extract()"
   ]
  },
  {
   "cell_type": "code",
   "execution_count": 6,
   "id": "8b93c099-5e9e-4a17-8c71-1a23f883590b",
   "metadata": {},
   "outputs": [
    {
     "data": {
      "text/plain": [
       "65"
      ]
     },
     "execution_count": 6,
     "metadata": {},
     "output_type": "execute_result"
    }
   ],
   "source": [
    "len(soup.find_all(\"table\"))"
   ]
  },
  {
   "cell_type": "code",
   "execution_count": null,
   "id": "cd5dac85-bc53-4100-acb4-c1217638c9c6",
   "metadata": {},
   "outputs": [],
   "source": [
    "for i,j in enumerate(soup.find_all(\"table\")):        \n",
    "    print(f\"table {i}\")\n",
    "    print(display(HTML(str(j))))\n",
    "    print(\"*\"*100)\n",
    "        "
   ]
  },
  {
   "cell_type": "code",
   "execution_count": null,
   "id": "aa7b1e02-bbc2-482f-b8a6-2a2dc08fb592",
   "metadata": {},
   "outputs": [],
   "source": [
    "display(HTML(str(soup.findAll(\"table\")[1])))[0]"
   ]
  },
  {
   "cell_type": "code",
   "execution_count": null,
   "id": "28563787-e0a6-4323-abec-03ad2117bb64",
   "metadata": {},
   "outputs": [],
   "source": [
    "#rest u can collect u r tables in pd.read_html"
   ]
  },
  {
   "cell_type": "code",
   "execution_count": 25,
   "id": "fe589df6-601e-4314-aa6e-1c11fc837c46",
   "metadata": {},
   "outputs": [],
   "source": [
    "rizzo_value=pd.read_html(str(soup.findAll(\"table\")[1]))[0]"
   ]
  },
  {
   "cell_type": "code",
   "execution_count": null,
   "id": "c69c5d02-5ee0-4fb9-8cba-ccb6c9ad4f4c",
   "metadata": {},
   "outputs": [],
   "source": [
    "rizzo_value.to_csv(\"rizzo_value_batting\".csv)"
   ]
  },
  {
   "cell_type": "code",
   "execution_count": 108,
   "id": "fb86c059-6e6d-4063-b6b9-61dd106986fd",
   "metadata": {},
   "outputs": [],
   "source": [
    "Rizzo_pvalue=pd.read_csv(\"rizzo_value_batting.csv\")"
   ]
  },
  {
   "cell_type": "code",
   "execution_count": 48,
   "id": "00825b70-455b-402b-968c-bdb71875f03f",
   "metadata": {},
   "outputs": [],
   "source": [
    "df=pd.DataFrame(data=Rizzo_pvalue)"
   ]
  },
  {
   "cell_type": "code",
   "execution_count": null,
   "id": "676fdb1b-868d-402b-9344-8797807ee7ef",
   "metadata": {},
   "outputs": [],
   "source": [
    "#changed year , team to a string "
   ]
  },
  {
   "cell_type": "code",
   "execution_count": 78,
   "id": "61390a3b-fd3b-4341-9926-d73f5e4c9bc7",
   "metadata": {},
   "outputs": [],
   "source": [
    "df=df.astype({'year':'string', 'tm':'string'})"
   ]
  },
  {
   "cell_type": "code",
   "execution_count": null,
   "id": "3eb5b02b-b30c-4ea7-bc85-581e23b34889",
   "metadata": {},
   "outputs": [],
   "source": [
    "df.dtypes"
   ]
  },
  {
   "cell_type": "code",
   "execution_count": null,
   "id": "ee6649be-d68f-4672-93fc-e5a4ce144f5e",
   "metadata": {},
   "outputs": [],
   "source": [
    "df.get(['year','tm','war']).head(13)"
   ]
  },
  {
   "cell_type": "code",
   "execution_count": 104,
   "id": "6b9b9ce4-6039-4d3e-b022-8a0bb120f96d",
   "metadata": {},
   "outputs": [],
   "source": [
    "Steve_data_rizzo=df.get(['year','tm','war']).head(13)"
   ]
  },
  {
   "cell_type": "code",
   "execution_count": 107,
   "id": "2dc0d15e-45f7-4f42-8b59-bc7b9df2abc3",
   "metadata": {},
   "outputs": [],
   "source": [
    "Steve_data_rizzo.to_csv(\"rizzo_war_data.csv\")"
   ]
  },
  {
   "cell_type": "code",
   "execution_count": null,
   "id": "f00b43d5-b98a-4215-8412-4df1a22f0857",
   "metadata": {},
   "outputs": [],
   "source": []
  }
 ],
 "metadata": {
  "kernelspec": {
   "display_name": "Python 3 (ipykernel)",
   "language": "python",
   "name": "python3"
  },
  "language_info": {
   "codemirror_mode": {
    "name": "ipython",
    "version": 3
   },
   "file_extension": ".py",
   "mimetype": "text/x-python",
   "name": "python",
   "nbconvert_exporter": "python",
   "pygments_lexer": "ipython3",
   "version": "3.9.12"
  }
 },
 "nbformat": 4,
 "nbformat_minor": 5
}
